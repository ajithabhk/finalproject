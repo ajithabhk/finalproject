{
 "cells": [
  {
   "cell_type": "code",
   "execution_count": 32,
   "metadata": {
    "execution": {
     "iopub.execute_input": "2021-06-28T21:12:08.176151Z",
     "iopub.status.busy": "2021-06-28T21:12:08.175772Z",
     "iopub.status.idle": "2021-06-28T21:12:08.188567Z",
     "shell.execute_reply": "2021-06-28T21:12:08.187647Z",
     "shell.execute_reply.started": "2021-06-28T21:12:08.176065Z"
    },
    "id": "YMm4qVv5qtGE",
    "outputId": "46034115-6222-4708-e9ef-f7f407130943"
   },
   "outputs": [
    {
     "name": "stdout",
     "output_type": "stream",
     "text": [
      "Windows-10-10.0.22631-SP0\n"
     ]
    }
   ],
   "source": [
    "import os\n",
    "import platform\n",
    "from IPython.display import clear_output\n",
    "print(platform.platform())\n",
    "\n",
    "def resolve_dir(Dir):\n",
    "    if not os.path.exists(Dir):\n",
    "        os.mkdir(Dir)\n",
    "\n",
    "def reset_path(Dir):\n",
    "    if not os.path.exists(Dir):\n",
    "        os.mkdir(Dir)\n",
    "    else:\n",
    "        os.system('rm -f {}/*'.format( Dir))"
   ]
  },
  {
   "cell_type": "code",
   "execution_count": 33,
   "metadata": {
    "execution": {
     "iopub.execute_input": "2021-06-28T21:12:12.539247Z",
     "iopub.status.busy": "2021-06-28T21:12:12.538912Z",
     "iopub.status.idle": "2021-06-28T21:12:18.360385Z",
     "shell.execute_reply": "2021-06-28T21:12:18.359448Z",
     "shell.execute_reply.started": "2021-06-28T21:12:12.539218Z"
    },
    "id": "m77ifGzHqtBg",
    "outputId": "cccebfce-fcbf-4a7d-802b-4de91b6e4772"
   },
   "outputs": [
    {
     "name": "stdout",
     "output_type": "stream",
     "text": [
      "Tensorflow version 2.15.0\n"
     ]
    },
    {
     "name": "stderr",
     "output_type": "stream",
     "text": [
      "'nvidia-smi' is not recognized as an internal or external command,\n",
      "operable program or batch file.\n"
     ]
    }
   ],
   "source": [
    "import tensorflow as tf\n",
    "tf.random.set_seed(73)\n",
    "TPU_INIT = False\n",
    "\n",
    "if TPU_INIT:\n",
    "    try:\n",
    "        tpu = tf.distribute.cluster_resolver.TPUClusterResolver.connect()\n",
    "        tpu_strategy = tf.distribute.experimental.TPUStrategy(tpu)\n",
    "    \n",
    "    except ValueError:\n",
    "        raise BaseException('ERROR: Not connected to a TPU runtime!')\n",
    "else:\n",
    "    !nvidia-smi\n",
    ";    \n",
    "print(\"Tensorflow version \" + tf.__version__)"
   ]
  },
  {
   "cell_type": "code",
   "execution_count": 34,
   "metadata": {
    "execution": {
     "iopub.execute_input": "2021-06-28T21:12:26.392432Z",
     "iopub.status.busy": "2021-06-28T21:12:26.392057Z",
     "iopub.status.idle": "2021-06-28T21:12:27.147421Z",
     "shell.execute_reply": "2021-06-28T21:12:27.146411Z",
     "shell.execute_reply.started": "2021-06-28T21:12:26.392397Z"
    },
    "id": "DwRUpYt5qs1l"
   },
   "outputs": [],
   "source": [
    "MyDrive = '/kaggle/working'\n",
    "PROJECT_DIR = './archive'"
   ]
  },
  {
   "cell_type": "code",
   "execution_count": 17,
   "metadata": {},
   "outputs": [
    {
     "name": "stdout",
     "output_type": "stream",
     "text": [
      "Collecting imgaug\n",
      "  Obtaining dependency information for imgaug from https://files.pythonhosted.org/packages/66/b1/af3142c4a85cba6da9f4ebb5ff4e21e2616309552caca5e8acefe9840622/imgaug-0.4.0-py2.py3-none-any.whl.metadata\n",
      "  Downloading imgaug-0.4.0-py2.py3-none-any.whl.metadata (1.8 kB)\n",
      "Requirement already satisfied: six in c:\\users\\ajithabh krishna\\anaconda3\\lib\\site-packages (from imgaug) (1.16.0)\n",
      "Requirement already satisfied: numpy>=1.15 in c:\\users\\ajithabh krishna\\anaconda3\\lib\\site-packages (from imgaug) (1.24.3)\n",
      "Requirement already satisfied: scipy in c:\\users\\ajithabh krishna\\anaconda3\\lib\\site-packages (from imgaug) (1.11.1)\n",
      "Requirement already satisfied: Pillow in c:\\users\\ajithabh krishna\\anaconda3\\lib\\site-packages (from imgaug) (9.4.0)\n",
      "Requirement already satisfied: matplotlib in c:\\users\\ajithabh krishna\\anaconda3\\lib\\site-packages (from imgaug) (3.7.2)\n",
      "Requirement already satisfied: scikit-image>=0.14.2 in c:\\users\\ajithabh krishna\\anaconda3\\lib\\site-packages (from imgaug) (0.20.0)\n",
      "Requirement already satisfied: opencv-python in c:\\users\\ajithabh krishna\\anaconda3\\lib\\site-packages (from imgaug) (4.9.0.80)\n",
      "Requirement already satisfied: imageio in c:\\users\\ajithabh krishna\\anaconda3\\lib\\site-packages (from imgaug) (2.26.0)\n",
      "Collecting Shapely (from imgaug)\n",
      "  Obtaining dependency information for Shapely from https://files.pythonhosted.org/packages/29/cd/763817c27e6cb6d04ffd477a5dcdfdd71bc3fb640f5748c9f2c1cd08ba52/shapely-2.0.3-cp311-cp311-win_amd64.whl.metadata\n",
      "  Downloading shapely-2.0.3-cp311-cp311-win_amd64.whl.metadata (7.2 kB)\n",
      "Requirement already satisfied: networkx>=2.8 in c:\\users\\ajithabh krishna\\anaconda3\\lib\\site-packages (from scikit-image>=0.14.2->imgaug) (3.1)\n",
      "Requirement already satisfied: tifffile>=2019.7.26 in c:\\users\\ajithabh krishna\\anaconda3\\lib\\site-packages (from scikit-image>=0.14.2->imgaug) (2023.4.12)\n",
      "Requirement already satisfied: PyWavelets>=1.1.1 in c:\\users\\ajithabh krishna\\anaconda3\\lib\\site-packages (from scikit-image>=0.14.2->imgaug) (1.4.1)\n",
      "Requirement already satisfied: packaging>=20.0 in c:\\users\\ajithabh krishna\\anaconda3\\lib\\site-packages (from scikit-image>=0.14.2->imgaug) (23.1)\n",
      "Requirement already satisfied: lazy_loader>=0.1 in c:\\users\\ajithabh krishna\\anaconda3\\lib\\site-packages (from scikit-image>=0.14.2->imgaug) (0.2)\n",
      "Requirement already satisfied: contourpy>=1.0.1 in c:\\users\\ajithabh krishna\\anaconda3\\lib\\site-packages (from matplotlib->imgaug) (1.0.5)\n",
      "Requirement already satisfied: cycler>=0.10 in c:\\users\\ajithabh krishna\\anaconda3\\lib\\site-packages (from matplotlib->imgaug) (0.11.0)\n",
      "Requirement already satisfied: fonttools>=4.22.0 in c:\\users\\ajithabh krishna\\anaconda3\\lib\\site-packages (from matplotlib->imgaug) (4.25.0)\n",
      "Requirement already satisfied: kiwisolver>=1.0.1 in c:\\users\\ajithabh krishna\\anaconda3\\lib\\site-packages (from matplotlib->imgaug) (1.4.4)\n",
      "Requirement already satisfied: pyparsing<3.1,>=2.3.1 in c:\\users\\ajithabh krishna\\anaconda3\\lib\\site-packages (from matplotlib->imgaug) (3.0.9)\n",
      "Requirement already satisfied: python-dateutil>=2.7 in c:\\users\\ajithabh krishna\\anaconda3\\lib\\site-packages (from matplotlib->imgaug) (2.8.2)\n",
      "Downloading imgaug-0.4.0-py2.py3-none-any.whl (948 kB)\n",
      "   ---------------------------------------- 0.0/948.0 kB ? eta -:--:--\n",
      "   ---------------------------------------- 0.0/948.0 kB ? eta -:--:--\n",
      "   - ------------------------------------- 30.7/948.0 kB 660.6 kB/s eta 0:00:02\n",
      "   -- ------------------------------------ 61.4/948.0 kB 656.4 kB/s eta 0:00:02\n",
      "   -------- ------------------------------- 194.6/948.0 kB 1.5 MB/s eta 0:00:01\n",
      "   ----------------- ---------------------- 409.6/948.0 kB 2.3 MB/s eta 0:00:01\n",
      "   --------------------------- ------------ 645.1/948.0 kB 2.9 MB/s eta 0:00:01\n",
      "   ---------------------------------------  942.1/948.0 kB 3.5 MB/s eta 0:00:01\n",
      "   ---------------------------------------- 948.0/948.0 kB 3.2 MB/s eta 0:00:00\n",
      "Downloading shapely-2.0.3-cp311-cp311-win_amd64.whl (1.4 MB)\n",
      "   ---------------------------------------- 0.0/1.4 MB ? eta -:--:--\n",
      "   -------- ------------------------------- 0.3/1.4 MB 19.2 MB/s eta 0:00:01\n",
      "   -------------- ------------------------- 0.5/1.4 MB 8.0 MB/s eta 0:00:01\n",
      "   --------------------------- ------------ 1.0/1.4 MB 8.8 MB/s eta 0:00:01\n",
      "   --------------------------------- ------ 1.2/1.4 MB 7.0 MB/s eta 0:00:01\n",
      "   ---------------------------------------  1.4/1.4 MB 7.0 MB/s eta 0:00:01\n",
      "   ---------------------------------------- 1.4/1.4 MB 6.1 MB/s eta 0:00:00\n",
      "Installing collected packages: Shapely, imgaug\n",
      "Successfully installed Shapely-2.0.3 imgaug-0.4.0\n",
      "Note: you may need to restart the kernel to use updated packages.\n"
     ]
    }
   ],
   "source": [
    "pip install imgaug"
   ]
  },
  {
   "cell_type": "markdown",
   "metadata": {
    "id": "xelnEP2OsH_7"
   },
   "source": [
    "## **Preprocessing**\n",
    "+ **Getting frames form video**\n",
    "+ **some image argumentations**"
   ]
  },
  {
   "cell_type": "code",
   "execution_count": 35,
   "metadata": {
    "execution": {
     "iopub.execute_input": "2021-06-28T21:13:35.503988Z",
     "iopub.status.busy": "2021-06-28T21:13:35.503640Z",
     "iopub.status.idle": "2021-06-28T21:13:37.178990Z",
     "shell.execute_reply": "2021-06-28T21:13:37.178190Z",
     "shell.execute_reply.started": "2021-06-28T21:13:35.503957Z"
    },
    "id": "VNftx0E_sH_9"
   },
   "outputs": [],
   "source": [
    "import cv2\n",
    "import os\n",
    "import imageio\n",
    "import imgaug.augmenters as iaa\n",
    "import imgaug as ia\n",
    "\n",
    "IMG_SIZE = 128\n",
    "ColorChannels = 3\n",
    "\n",
    "def video_to_frames(video):\n",
    "    vidcap = cv2.VideoCapture(video)\n",
    "    \n",
    "    import math\n",
    "    rate = math.floor(vidcap.get(3))\n",
    "    count = 0\n",
    "    \n",
    "    ImageFrames = []\n",
    "    while vidcap.isOpened():\n",
    "        ID = vidcap.get(1)\n",
    "        success, image = vidcap.read()\n",
    "        \n",
    "        if success:\n",
    "            # skipping frames to avoid duplications \n",
    "            if (ID % 7 == 0):\n",
    "                flip = iaa.Fliplr(1.0)\n",
    "                zoom = iaa.Affine(scale=1.3)\n",
    "                random_brightness = iaa.Multiply((1, 1.3))\n",
    "                rotate = iaa.Affine(rotate=(-25, 25))\n",
    "                \n",
    "                image_aug = flip(image = image)\n",
    "                image_aug = random_brightness(image = image_aug)\n",
    "                image_aug = zoom(image = image_aug)\n",
    "                image_aug = rotate(image = image_aug)\n",
    "                \n",
    "                rgb_img = cv2.cvtColor(image_aug, cv2.COLOR_BGR2RGB)\n",
    "                resized = cv2.resize(rgb_img, (IMG_SIZE, IMG_SIZE))\n",
    "                ImageFrames.append(resized)\n",
    "                \n",
    "            count += 1\n",
    "        else:\n",
    "            break\n",
    "    \n",
    "    vidcap.release()\n",
    "    \n",
    "    return ImageFrames"
   ]
  },
  {
   "cell_type": "code",
   "execution_count": 36,
   "metadata": {
    "execution": {
     "iopub.execute_input": "2021-06-28T21:13:41.414231Z",
     "iopub.status.busy": "2021-06-28T21:13:41.413870Z",
     "iopub.status.idle": "2021-06-28T21:17:29.584414Z",
     "shell.execute_reply": "2021-06-28T21:17:29.581822Z",
     "shell.execute_reply.started": "2021-06-28T21:13:41.414198Z"
    },
    "id": "VtjFbXZKsH_-",
    "outputId": "26ea2589-1b55-47d5-947c-7bb5bd21f999"
   },
   "outputs": [
    {
     "name": "stdout",
     "output_type": "stream",
     "text": [
      "we have \n",
      "89 Shoplifting videos \n",
      "86 Normal videos\n",
      "i choose 700 videos out of 2000, cuz of memory issue\n"
     ]
    },
    {
     "name": "stderr",
     "output_type": "stream",
     "text": [
      "100%|██████████████████████████████████████| 86/86 [01:08<00:00,  1.25it/s]\n",
      "100%|██████████████████████████████████████| 89/89 [01:20<00:00,  1.11it/s]"
     ]
    },
    {
     "name": "stdout",
     "output_type": "stream",
     "text": [
      "CPU times: total: 2min 13s\n",
      "Wall time: 2min 29s\n"
     ]
    },
    {
     "name": "stderr",
     "output_type": "stream",
     "text": [
      "\n"
     ]
    }
   ],
   "source": [
    "%%time\n",
    "from tqdm import tqdm\n",
    "\n",
    "VideoDataDir = PROJECT_DIR + '/Real Life Violence Dataset'\n",
    "print('we have \\n{} Shoplifting videos \\n{} Normal videos'.format(\n",
    "              len(os.listdir(VideoDataDir + '/Shoplifting')), \n",
    "              len(os.listdir(VideoDataDir + '/Normal'))))\n",
    "\n",
    "X_original = []\n",
    "y_original = []\n",
    "\n",
    "print('i choose 700 videos out of 2000, cuz of memory issue')\n",
    "CLASSES = [\"Normal\", \"Shoplifting\"]\n",
    "#700 <- 350 + 350\n",
    "\n",
    "for category in os.listdir(VideoDataDir):\n",
    "    path = os.path.join(VideoDataDir, category)\n",
    "    class_num = CLASSES.index(category)\n",
    "    for i, video in enumerate(tqdm(os.listdir(path)[0:350])):\n",
    "        frames = video_to_frames(path + '/' + video)\n",
    "        for j, frame in enumerate(frames):\n",
    "            X_original.append(frame)\n",
    "            y_original.append(class_num)"
   ]
  },
  {
   "cell_type": "code",
   "execution_count": 37,
   "metadata": {
    "execution": {
     "iopub.execute_input": "2021-06-28T21:18:34.638320Z",
     "iopub.status.busy": "2021-06-28T21:18:34.637958Z",
     "iopub.status.idle": "2021-06-28T21:18:34.864211Z",
     "shell.execute_reply": "2021-06-28T21:18:34.863222Z",
     "shell.execute_reply.started": "2021-06-28T21:18:34.638286Z"
    },
    "id": "0Knwy2OjsH__",
    "outputId": "53453a2c-9bc7-4210-8736-b89ce5819e15"
   },
   "outputs": [
    {
     "data": {
      "text/plain": [
       "8348"
      ]
     },
     "execution_count": 37,
     "metadata": {},
     "output_type": "execute_result"
    }
   ],
   "source": [
    "import numpy as np\n",
    "X_original = np.array(X_original).reshape(-1 , IMG_SIZE * IMG_SIZE * 3)\n",
    "y_original = np.array(y_original)\n",
    "len(X_original)"
   ]
  },
  {
   "cell_type": "code",
   "execution_count": 38,
   "metadata": {
    "execution": {
     "iopub.execute_input": "2021-06-28T21:18:40.130114Z",
     "iopub.status.busy": "2021-06-28T21:18:40.129780Z",
     "iopub.status.idle": "2021-06-28T21:18:42.322266Z",
     "shell.execute_reply": "2021-06-28T21:18:42.321377Z",
     "shell.execute_reply.started": "2021-06-28T21:18:40.130083Z"
    },
    "id": "ziCGqqa9sIAA"
   },
   "outputs": [],
   "source": [
    "from sklearn.model_selection import StratifiedShuffleSplit\n",
    "\n",
    "stratified_sample = StratifiedShuffleSplit(n_splits=2, test_size=0.3, random_state=73)\n",
    "\n",
    "for train_index, test_index in stratified_sample.split(X_original, y_original):\n",
    "    X_train, X_test = X_original[train_index], X_original[test_index]\n",
    "    y_train, y_test = y_original[train_index], y_original[test_index]\n",
    "\n",
    "X_train_nn = X_train.reshape(-1, IMG_SIZE, IMG_SIZE, 3) / 255\n",
    "X_test_nn = X_test.reshape(-1, IMG_SIZE, IMG_SIZE, 3) / 255"
   ]
  },
  {
   "cell_type": "markdown",
   "metadata": {
    "id": "fvmfQMM0p46i"
   },
   "source": [
    "## **Model Training**"
   ]
  },
  {
   "cell_type": "code",
   "execution_count": 39,
   "metadata": {
    "execution": {
     "iopub.execute_input": "2021-06-28T21:18:46.747492Z",
     "iopub.status.busy": "2021-06-28T21:18:46.747115Z",
     "iopub.status.idle": "2021-06-28T21:18:56.074221Z",
     "shell.execute_reply": "2021-06-28T21:18:56.073342Z",
     "shell.execute_reply.started": "2021-06-28T21:18:46.747463Z"
    },
    "id": "loeXLm9-sIAB"
   },
   "outputs": [],
   "source": [
    "!pip install imutils\n",
    "clear_output()"
   ]
  },
  {
   "cell_type": "code",
   "execution_count": 17,
   "metadata": {},
   "outputs": [
    {
     "name": "stdout",
     "output_type": "stream",
     "text": [
      "Requirement already satisfied: keras in c:\\users\\ajithabh krishna\\anaconda3\\lib\\site-packages (2.15.0)\n",
      "Note: you may need to restart the kernel to use updated packages.\n"
     ]
    }
   ],
   "source": [
    "pip install keras"
   ]
  },
  {
   "cell_type": "code",
   "execution_count": 40,
   "metadata": {
    "execution": {
     "iopub.execute_input": "2021-06-28T21:19:00.024214Z",
     "iopub.status.busy": "2021-06-28T21:19:00.023698Z",
     "iopub.status.idle": "2021-06-28T21:19:00.097339Z",
     "shell.execute_reply": "2021-06-28T21:19:00.096328Z",
     "shell.execute_reply.started": "2021-06-28T21:19:00.024167Z"
    },
    "id": "f5SLkPZ2I01J"
   },
   "outputs": [],
   "source": [
    "import cv2\n",
    "import os\n",
    "import numpy as np\n",
    "import pickle\n",
    "import matplotlib\n",
    "matplotlib.use(\"Agg\")\n",
    "\n",
    "from keras.layers import Input\n",
    "from keras.models import Model\n",
    "from keras.layers import Input, Dropout, Flatten, Dense\n",
    "\n",
    "import matplotlib.pyplot as plt"
   ]
  },
  {
   "cell_type": "code",
   "execution_count": 41,
   "metadata": {
    "_kg_hide-output": true,
    "execution": {
     "iopub.execute_input": "2021-06-28T21:19:03.585235Z",
     "iopub.status.busy": "2021-06-28T21:19:03.584867Z",
     "iopub.status.idle": "2021-06-28T21:19:06.799324Z",
     "shell.execute_reply": "2021-06-28T21:19:06.798517Z",
     "shell.execute_reply.started": "2021-06-28T21:19:03.585199Z"
    },
    "id": "dNsCZbY3p8VM",
    "outputId": "431b8715-b9d1-4bb0-eb7e-5758027c14ac"
   },
   "outputs": [
    {
     "name": "stdout",
     "output_type": "stream",
     "text": [
      "WARNING:tensorflow:`input_shape` is undefined or non-square, or `rows` is not in [96, 128, 160, 192, 224]. Weights for input shape (224, 224) will be loaded as the default.\n",
      "Compiling model...\n",
      "Model: \"model_1\"\n",
      "__________________________________________________________________________________________________\n",
      " Layer (type)                Output Shape                 Param #   Connected to                  \n",
      "==================================================================================================\n",
      " input_2 (InputLayer)        [(None, 128, 128, 3)]        0         []                            \n",
      "                                                                                                  \n",
      " Conv1 (Conv2D)              (None, 64, 64, 32)           864       ['input_2[0][0]']             \n",
      "                                                                                                  \n",
      " bn_Conv1 (BatchNormalizati  (None, 64, 64, 32)           128       ['Conv1[0][0]']               \n",
      " on)                                                                                              \n",
      "                                                                                                  \n",
      " Conv1_relu (ReLU)           (None, 64, 64, 32)           0         ['bn_Conv1[0][0]']            \n",
      "                                                                                                  \n",
      " expanded_conv_depthwise (D  (None, 64, 64, 32)           288       ['Conv1_relu[0][0]']          \n",
      " epthwiseConv2D)                                                                                  \n",
      "                                                                                                  \n",
      " expanded_conv_depthwise_BN  (None, 64, 64, 32)           128       ['expanded_conv_depthwise[0][0\n",
      "  (BatchNormalization)                                              ]']                           \n",
      "                                                                                                  \n",
      " expanded_conv_depthwise_re  (None, 64, 64, 32)           0         ['expanded_conv_depthwise_BN[0\n",
      " lu (ReLU)                                                          ][0]']                        \n",
      "                                                                                                  \n",
      " expanded_conv_project (Con  (None, 64, 64, 16)           512       ['expanded_conv_depthwise_relu\n",
      " v2D)                                                               [0][0]']                      \n",
      "                                                                                                  \n",
      " expanded_conv_project_BN (  (None, 64, 64, 16)           64        ['expanded_conv_project[0][0]'\n",
      " BatchNormalization)                                                ]                             \n",
      "                                                                                                  \n",
      " block_1_expand (Conv2D)     (None, 64, 64, 96)           1536      ['expanded_conv_project_BN[0][\n",
      "                                                                    0]']                          \n",
      "                                                                                                  \n",
      " block_1_expand_BN (BatchNo  (None, 64, 64, 96)           384       ['block_1_expand[0][0]']      \n",
      " rmalization)                                                                                     \n",
      "                                                                                                  \n",
      " block_1_expand_relu (ReLU)  (None, 64, 64, 96)           0         ['block_1_expand_BN[0][0]']   \n",
      "                                                                                                  \n",
      " block_1_pad (ZeroPadding2D  (None, 65, 65, 96)           0         ['block_1_expand_relu[0][0]'] \n",
      " )                                                                                                \n",
      "                                                                                                  \n",
      " block_1_depthwise (Depthwi  (None, 32, 32, 96)           864       ['block_1_pad[0][0]']         \n",
      " seConv2D)                                                                                        \n",
      "                                                                                                  \n",
      " block_1_depthwise_BN (Batc  (None, 32, 32, 96)           384       ['block_1_depthwise[0][0]']   \n",
      " hNormalization)                                                                                  \n",
      "                                                                                                  \n",
      " block_1_depthwise_relu (Re  (None, 32, 32, 96)           0         ['block_1_depthwise_BN[0][0]']\n",
      " LU)                                                                                              \n",
      "                                                                                                  \n",
      " block_1_project (Conv2D)    (None, 32, 32, 24)           2304      ['block_1_depthwise_relu[0][0]\n",
      "                                                                    ']                            \n",
      "                                                                                                  \n",
      " block_1_project_BN (BatchN  (None, 32, 32, 24)           96        ['block_1_project[0][0]']     \n",
      " ormalization)                                                                                    \n",
      "                                                                                                  \n",
      " block_2_expand (Conv2D)     (None, 32, 32, 144)          3456      ['block_1_project_BN[0][0]']  \n",
      "                                                                                                  \n",
      " block_2_expand_BN (BatchNo  (None, 32, 32, 144)          576       ['block_2_expand[0][0]']      \n",
      " rmalization)                                                                                     \n",
      "                                                                                                  \n",
      " block_2_expand_relu (ReLU)  (None, 32, 32, 144)          0         ['block_2_expand_BN[0][0]']   \n",
      "                                                                                                  \n",
      " block_2_depthwise (Depthwi  (None, 32, 32, 144)          1296      ['block_2_expand_relu[0][0]'] \n",
      " seConv2D)                                                                                        \n",
      "                                                                                                  \n",
      " block_2_depthwise_BN (Batc  (None, 32, 32, 144)          576       ['block_2_depthwise[0][0]']   \n",
      " hNormalization)                                                                                  \n",
      "                                                                                                  \n",
      " block_2_depthwise_relu (Re  (None, 32, 32, 144)          0         ['block_2_depthwise_BN[0][0]']\n",
      " LU)                                                                                              \n",
      "                                                                                                  \n",
      " block_2_project (Conv2D)    (None, 32, 32, 24)           3456      ['block_2_depthwise_relu[0][0]\n",
      "                                                                    ']                            \n",
      "                                                                                                  \n",
      " block_2_project_BN (BatchN  (None, 32, 32, 24)           96        ['block_2_project[0][0]']     \n",
      " ormalization)                                                                                    \n",
      "                                                                                                  \n",
      " block_2_add (Add)           (None, 32, 32, 24)           0         ['block_1_project_BN[0][0]',  \n",
      "                                                                     'block_2_project_BN[0][0]']  \n",
      "                                                                                                  \n",
      " block_3_expand (Conv2D)     (None, 32, 32, 144)          3456      ['block_2_add[0][0]']         \n",
      "                                                                                                  \n",
      " block_3_expand_BN (BatchNo  (None, 32, 32, 144)          576       ['block_3_expand[0][0]']      \n"
     ]
    },
    {
     "name": "stdout",
     "output_type": "stream",
     "text": [
      " rmalization)                                                                                     \n",
      "                                                                                                  \n",
      " block_3_expand_relu (ReLU)  (None, 32, 32, 144)          0         ['block_3_expand_BN[0][0]']   \n",
      "                                                                                                  \n",
      " block_3_pad (ZeroPadding2D  (None, 33, 33, 144)          0         ['block_3_expand_relu[0][0]'] \n",
      " )                                                                                                \n",
      "                                                                                                  \n",
      " block_3_depthwise (Depthwi  (None, 16, 16, 144)          1296      ['block_3_pad[0][0]']         \n",
      " seConv2D)                                                                                        \n",
      "                                                                                                  \n",
      " block_3_depthwise_BN (Batc  (None, 16, 16, 144)          576       ['block_3_depthwise[0][0]']   \n",
      " hNormalization)                                                                                  \n",
      "                                                                                                  \n",
      " block_3_depthwise_relu (Re  (None, 16, 16, 144)          0         ['block_3_depthwise_BN[0][0]']\n",
      " LU)                                                                                              \n",
      "                                                                                                  \n",
      " block_3_project (Conv2D)    (None, 16, 16, 32)           4608      ['block_3_depthwise_relu[0][0]\n",
      "                                                                    ']                            \n",
      "                                                                                                  \n",
      " block_3_project_BN (BatchN  (None, 16, 16, 32)           128       ['block_3_project[0][0]']     \n",
      " ormalization)                                                                                    \n",
      "                                                                                                  \n",
      " block_4_expand (Conv2D)     (None, 16, 16, 192)          6144      ['block_3_project_BN[0][0]']  \n",
      "                                                                                                  \n",
      " block_4_expand_BN (BatchNo  (None, 16, 16, 192)          768       ['block_4_expand[0][0]']      \n",
      " rmalization)                                                                                     \n",
      "                                                                                                  \n",
      " block_4_expand_relu (ReLU)  (None, 16, 16, 192)          0         ['block_4_expand_BN[0][0]']   \n",
      "                                                                                                  \n",
      " block_4_depthwise (Depthwi  (None, 16, 16, 192)          1728      ['block_4_expand_relu[0][0]'] \n",
      " seConv2D)                                                                                        \n",
      "                                                                                                  \n",
      " block_4_depthwise_BN (Batc  (None, 16, 16, 192)          768       ['block_4_depthwise[0][0]']   \n",
      " hNormalization)                                                                                  \n",
      "                                                                                                  \n",
      " block_4_depthwise_relu (Re  (None, 16, 16, 192)          0         ['block_4_depthwise_BN[0][0]']\n",
      " LU)                                                                                              \n",
      "                                                                                                  \n",
      " block_4_project (Conv2D)    (None, 16, 16, 32)           6144      ['block_4_depthwise_relu[0][0]\n",
      "                                                                    ']                            \n",
      "                                                                                                  \n",
      " block_4_project_BN (BatchN  (None, 16, 16, 32)           128       ['block_4_project[0][0]']     \n",
      " ormalization)                                                                                    \n",
      "                                                                                                  \n",
      " block_4_add (Add)           (None, 16, 16, 32)           0         ['block_3_project_BN[0][0]',  \n",
      "                                                                     'block_4_project_BN[0][0]']  \n",
      "                                                                                                  \n",
      " block_5_expand (Conv2D)     (None, 16, 16, 192)          6144      ['block_4_add[0][0]']         \n",
      "                                                                                                  \n",
      " block_5_expand_BN (BatchNo  (None, 16, 16, 192)          768       ['block_5_expand[0][0]']      \n",
      " rmalization)                                                                                     \n",
      "                                                                                                  \n",
      " block_5_expand_relu (ReLU)  (None, 16, 16, 192)          0         ['block_5_expand_BN[0][0]']   \n",
      "                                                                                                  \n",
      " block_5_depthwise (Depthwi  (None, 16, 16, 192)          1728      ['block_5_expand_relu[0][0]'] \n",
      " seConv2D)                                                                                        \n",
      "                                                                                                  \n",
      " block_5_depthwise_BN (Batc  (None, 16, 16, 192)          768       ['block_5_depthwise[0][0]']   \n",
      " hNormalization)                                                                                  \n",
      "                                                                                                  \n",
      " block_5_depthwise_relu (Re  (None, 16, 16, 192)          0         ['block_5_depthwise_BN[0][0]']\n",
      " LU)                                                                                              \n",
      "                                                                                                  \n",
      " block_5_project (Conv2D)    (None, 16, 16, 32)           6144      ['block_5_depthwise_relu[0][0]\n",
      "                                                                    ']                            \n",
      "                                                                                                  \n",
      " block_5_project_BN (BatchN  (None, 16, 16, 32)           128       ['block_5_project[0][0]']     \n",
      " ormalization)                                                                                    \n",
      "                                                                                                  \n",
      " block_5_add (Add)           (None, 16, 16, 32)           0         ['block_4_add[0][0]',         \n",
      "                                                                     'block_5_project_BN[0][0]']  \n",
      "                                                                                                  \n",
      " block_6_expand (Conv2D)     (None, 16, 16, 192)          6144      ['block_5_add[0][0]']         \n",
      "                                                                                                  \n",
      " block_6_expand_BN (BatchNo  (None, 16, 16, 192)          768       ['block_6_expand[0][0]']      \n",
      " rmalization)                                                                                     \n",
      "                                                                                                  \n",
      " block_6_expand_relu (ReLU)  (None, 16, 16, 192)          0         ['block_6_expand_BN[0][0]']   \n",
      "                                                                                                  \n",
      " block_6_pad (ZeroPadding2D  (None, 17, 17, 192)          0         ['block_6_expand_relu[0][0]'] \n",
      " )                                                                                                \n",
      "                                                                                                  \n",
      " block_6_depthwise (Depthwi  (None, 8, 8, 192)            1728      ['block_6_pad[0][0]']         \n"
     ]
    },
    {
     "name": "stdout",
     "output_type": "stream",
     "text": [
      " seConv2D)                                                                                        \n",
      "                                                                                                  \n",
      " block_6_depthwise_BN (Batc  (None, 8, 8, 192)            768       ['block_6_depthwise[0][0]']   \n",
      " hNormalization)                                                                                  \n",
      "                                                                                                  \n",
      " block_6_depthwise_relu (Re  (None, 8, 8, 192)            0         ['block_6_depthwise_BN[0][0]']\n",
      " LU)                                                                                              \n",
      "                                                                                                  \n",
      " block_6_project (Conv2D)    (None, 8, 8, 64)             12288     ['block_6_depthwise_relu[0][0]\n",
      "                                                                    ']                            \n",
      "                                                                                                  \n",
      " block_6_project_BN (BatchN  (None, 8, 8, 64)             256       ['block_6_project[0][0]']     \n",
      " ormalization)                                                                                    \n",
      "                                                                                                  \n",
      " block_7_expand (Conv2D)     (None, 8, 8, 384)            24576     ['block_6_project_BN[0][0]']  \n",
      "                                                                                                  \n",
      " block_7_expand_BN (BatchNo  (None, 8, 8, 384)            1536      ['block_7_expand[0][0]']      \n",
      " rmalization)                                                                                     \n",
      "                                                                                                  \n",
      " block_7_expand_relu (ReLU)  (None, 8, 8, 384)            0         ['block_7_expand_BN[0][0]']   \n",
      "                                                                                                  \n",
      " block_7_depthwise (Depthwi  (None, 8, 8, 384)            3456      ['block_7_expand_relu[0][0]'] \n",
      " seConv2D)                                                                                        \n",
      "                                                                                                  \n",
      " block_7_depthwise_BN (Batc  (None, 8, 8, 384)            1536      ['block_7_depthwise[0][0]']   \n",
      " hNormalization)                                                                                  \n",
      "                                                                                                  \n",
      " block_7_depthwise_relu (Re  (None, 8, 8, 384)            0         ['block_7_depthwise_BN[0][0]']\n",
      " LU)                                                                                              \n",
      "                                                                                                  \n",
      " block_7_project (Conv2D)    (None, 8, 8, 64)             24576     ['block_7_depthwise_relu[0][0]\n",
      "                                                                    ']                            \n",
      "                                                                                                  \n",
      " block_7_project_BN (BatchN  (None, 8, 8, 64)             256       ['block_7_project[0][0]']     \n",
      " ormalization)                                                                                    \n",
      "                                                                                                  \n",
      " block_7_add (Add)           (None, 8, 8, 64)             0         ['block_6_project_BN[0][0]',  \n",
      "                                                                     'block_7_project_BN[0][0]']  \n",
      "                                                                                                  \n",
      " block_8_expand (Conv2D)     (None, 8, 8, 384)            24576     ['block_7_add[0][0]']         \n",
      "                                                                                                  \n",
      " block_8_expand_BN (BatchNo  (None, 8, 8, 384)            1536      ['block_8_expand[0][0]']      \n",
      " rmalization)                                                                                     \n",
      "                                                                                                  \n",
      " block_8_expand_relu (ReLU)  (None, 8, 8, 384)            0         ['block_8_expand_BN[0][0]']   \n",
      "                                                                                                  \n",
      " block_8_depthwise (Depthwi  (None, 8, 8, 384)            3456      ['block_8_expand_relu[0][0]'] \n",
      " seConv2D)                                                                                        \n",
      "                                                                                                  \n",
      " block_8_depthwise_BN (Batc  (None, 8, 8, 384)            1536      ['block_8_depthwise[0][0]']   \n",
      " hNormalization)                                                                                  \n",
      "                                                                                                  \n",
      " block_8_depthwise_relu (Re  (None, 8, 8, 384)            0         ['block_8_depthwise_BN[0][0]']\n",
      " LU)                                                                                              \n",
      "                                                                                                  \n",
      " block_8_project (Conv2D)    (None, 8, 8, 64)             24576     ['block_8_depthwise_relu[0][0]\n",
      "                                                                    ']                            \n",
      "                                                                                                  \n",
      " block_8_project_BN (BatchN  (None, 8, 8, 64)             256       ['block_8_project[0][0]']     \n",
      " ormalization)                                                                                    \n",
      "                                                                                                  \n",
      " block_8_add (Add)           (None, 8, 8, 64)             0         ['block_7_add[0][0]',         \n",
      "                                                                     'block_8_project_BN[0][0]']  \n",
      "                                                                                                  \n",
      " block_9_expand (Conv2D)     (None, 8, 8, 384)            24576     ['block_8_add[0][0]']         \n",
      "                                                                                                  \n",
      " block_9_expand_BN (BatchNo  (None, 8, 8, 384)            1536      ['block_9_expand[0][0]']      \n",
      " rmalization)                                                                                     \n",
      "                                                                                                  \n",
      " block_9_expand_relu (ReLU)  (None, 8, 8, 384)            0         ['block_9_expand_BN[0][0]']   \n",
      "                                                                                                  \n",
      " block_9_depthwise (Depthwi  (None, 8, 8, 384)            3456      ['block_9_expand_relu[0][0]'] \n",
      " seConv2D)                                                                                        \n",
      "                                                                                                  \n",
      " block_9_depthwise_BN (Batc  (None, 8, 8, 384)            1536      ['block_9_depthwise[0][0]']   \n",
      " hNormalization)                                                                                  \n",
      "                                                                                                  \n",
      " block_9_depthwise_relu (Re  (None, 8, 8, 384)            0         ['block_9_depthwise_BN[0][0]']\n",
      " LU)                                                                                              \n",
      "                                                                                                  \n",
      " block_9_project (Conv2D)    (None, 8, 8, 64)             24576     ['block_9_depthwise_relu[0][0]\n",
      "                                                                    ']                            \n",
      "                                                                                                  \n"
     ]
    },
    {
     "name": "stdout",
     "output_type": "stream",
     "text": [
      " block_9_project_BN (BatchN  (None, 8, 8, 64)             256       ['block_9_project[0][0]']     \n",
      " ormalization)                                                                                    \n",
      "                                                                                                  \n",
      " block_9_add (Add)           (None, 8, 8, 64)             0         ['block_8_add[0][0]',         \n",
      "                                                                     'block_9_project_BN[0][0]']  \n",
      "                                                                                                  \n",
      " block_10_expand (Conv2D)    (None, 8, 8, 384)            24576     ['block_9_add[0][0]']         \n",
      "                                                                                                  \n",
      " block_10_expand_BN (BatchN  (None, 8, 8, 384)            1536      ['block_10_expand[0][0]']     \n",
      " ormalization)                                                                                    \n",
      "                                                                                                  \n",
      " block_10_expand_relu (ReLU  (None, 8, 8, 384)            0         ['block_10_expand_BN[0][0]']  \n",
      " )                                                                                                \n",
      "                                                                                                  \n",
      " block_10_depthwise (Depthw  (None, 8, 8, 384)            3456      ['block_10_expand_relu[0][0]']\n",
      " iseConv2D)                                                                                       \n",
      "                                                                                                  \n",
      " block_10_depthwise_BN (Bat  (None, 8, 8, 384)            1536      ['block_10_depthwise[0][0]']  \n",
      " chNormalization)                                                                                 \n",
      "                                                                                                  \n",
      " block_10_depthwise_relu (R  (None, 8, 8, 384)            0         ['block_10_depthwise_BN[0][0]'\n",
      " eLU)                                                               ]                             \n",
      "                                                                                                  \n",
      " block_10_project (Conv2D)   (None, 8, 8, 96)             36864     ['block_10_depthwise_relu[0][0\n",
      "                                                                    ]']                           \n",
      "                                                                                                  \n",
      " block_10_project_BN (Batch  (None, 8, 8, 96)             384       ['block_10_project[0][0]']    \n",
      " Normalization)                                                                                   \n",
      "                                                                                                  \n",
      " block_11_expand (Conv2D)    (None, 8, 8, 576)            55296     ['block_10_project_BN[0][0]'] \n",
      "                                                                                                  \n",
      " block_11_expand_BN (BatchN  (None, 8, 8, 576)            2304      ['block_11_expand[0][0]']     \n",
      " ormalization)                                                                                    \n",
      "                                                                                                  \n",
      " block_11_expand_relu (ReLU  (None, 8, 8, 576)            0         ['block_11_expand_BN[0][0]']  \n",
      " )                                                                                                \n",
      "                                                                                                  \n",
      " block_11_depthwise (Depthw  (None, 8, 8, 576)            5184      ['block_11_expand_relu[0][0]']\n",
      " iseConv2D)                                                                                       \n",
      "                                                                                                  \n",
      " block_11_depthwise_BN (Bat  (None, 8, 8, 576)            2304      ['block_11_depthwise[0][0]']  \n",
      " chNormalization)                                                                                 \n",
      "                                                                                                  \n",
      " block_11_depthwise_relu (R  (None, 8, 8, 576)            0         ['block_11_depthwise_BN[0][0]'\n",
      " eLU)                                                               ]                             \n",
      "                                                                                                  \n",
      " block_11_project (Conv2D)   (None, 8, 8, 96)             55296     ['block_11_depthwise_relu[0][0\n",
      "                                                                    ]']                           \n",
      "                                                                                                  \n",
      " block_11_project_BN (Batch  (None, 8, 8, 96)             384       ['block_11_project[0][0]']    \n",
      " Normalization)                                                                                   \n",
      "                                                                                                  \n",
      " block_11_add (Add)          (None, 8, 8, 96)             0         ['block_10_project_BN[0][0]', \n",
      "                                                                     'block_11_project_BN[0][0]'] \n",
      "                                                                                                  \n",
      " block_12_expand (Conv2D)    (None, 8, 8, 576)            55296     ['block_11_add[0][0]']        \n",
      "                                                                                                  \n",
      " block_12_expand_BN (BatchN  (None, 8, 8, 576)            2304      ['block_12_expand[0][0]']     \n",
      " ormalization)                                                                                    \n",
      "                                                                                                  \n",
      " block_12_expand_relu (ReLU  (None, 8, 8, 576)            0         ['block_12_expand_BN[0][0]']  \n",
      " )                                                                                                \n",
      "                                                                                                  \n",
      " block_12_depthwise (Depthw  (None, 8, 8, 576)            5184      ['block_12_expand_relu[0][0]']\n",
      " iseConv2D)                                                                                       \n",
      "                                                                                                  \n",
      " block_12_depthwise_BN (Bat  (None, 8, 8, 576)            2304      ['block_12_depthwise[0][0]']  \n",
      " chNormalization)                                                                                 \n",
      "                                                                                                  \n",
      " block_12_depthwise_relu (R  (None, 8, 8, 576)            0         ['block_12_depthwise_BN[0][0]'\n",
      " eLU)                                                               ]                             \n",
      "                                                                                                  \n",
      " block_12_project (Conv2D)   (None, 8, 8, 96)             55296     ['block_12_depthwise_relu[0][0\n",
      "                                                                    ]']                           \n",
      "                                                                                                  \n",
      " block_12_project_BN (Batch  (None, 8, 8, 96)             384       ['block_12_project[0][0]']    \n",
      " Normalization)                                                                                   \n",
      "                                                                                                  \n",
      " block_12_add (Add)          (None, 8, 8, 96)             0         ['block_11_add[0][0]',        \n",
      "                                                                     'block_12_project_BN[0][0]'] \n",
      "                                                                                                  \n",
      " block_13_expand (Conv2D)    (None, 8, 8, 576)            55296     ['block_12_add[0][0]']        \n",
      "                                                                                                  \n"
     ]
    },
    {
     "name": "stdout",
     "output_type": "stream",
     "text": [
      " block_13_expand_BN (BatchN  (None, 8, 8, 576)            2304      ['block_13_expand[0][0]']     \n",
      " ormalization)                                                                                    \n",
      "                                                                                                  \n",
      " block_13_expand_relu (ReLU  (None, 8, 8, 576)            0         ['block_13_expand_BN[0][0]']  \n",
      " )                                                                                                \n",
      "                                                                                                  \n",
      " block_13_pad (ZeroPadding2  (None, 9, 9, 576)            0         ['block_13_expand_relu[0][0]']\n",
      " D)                                                                                               \n",
      "                                                                                                  \n",
      " block_13_depthwise (Depthw  (None, 4, 4, 576)            5184      ['block_13_pad[0][0]']        \n",
      " iseConv2D)                                                                                       \n",
      "                                                                                                  \n",
      " block_13_depthwise_BN (Bat  (None, 4, 4, 576)            2304      ['block_13_depthwise[0][0]']  \n",
      " chNormalization)                                                                                 \n",
      "                                                                                                  \n",
      " block_13_depthwise_relu (R  (None, 4, 4, 576)            0         ['block_13_depthwise_BN[0][0]'\n",
      " eLU)                                                               ]                             \n",
      "                                                                                                  \n",
      " block_13_project (Conv2D)   (None, 4, 4, 160)            92160     ['block_13_depthwise_relu[0][0\n",
      "                                                                    ]']                           \n",
      "                                                                                                  \n",
      " block_13_project_BN (Batch  (None, 4, 4, 160)            640       ['block_13_project[0][0]']    \n",
      " Normalization)                                                                                   \n",
      "                                                                                                  \n",
      " block_14_expand (Conv2D)    (None, 4, 4, 960)            153600    ['block_13_project_BN[0][0]'] \n",
      "                                                                                                  \n",
      " block_14_expand_BN (BatchN  (None, 4, 4, 960)            3840      ['block_14_expand[0][0]']     \n",
      " ormalization)                                                                                    \n",
      "                                                                                                  \n",
      " block_14_expand_relu (ReLU  (None, 4, 4, 960)            0         ['block_14_expand_BN[0][0]']  \n",
      " )                                                                                                \n",
      "                                                                                                  \n",
      " block_14_depthwise (Depthw  (None, 4, 4, 960)            8640      ['block_14_expand_relu[0][0]']\n",
      " iseConv2D)                                                                                       \n",
      "                                                                                                  \n",
      " block_14_depthwise_BN (Bat  (None, 4, 4, 960)            3840      ['block_14_depthwise[0][0]']  \n",
      " chNormalization)                                                                                 \n",
      "                                                                                                  \n",
      " block_14_depthwise_relu (R  (None, 4, 4, 960)            0         ['block_14_depthwise_BN[0][0]'\n",
      " eLU)                                                               ]                             \n",
      "                                                                                                  \n",
      " block_14_project (Conv2D)   (None, 4, 4, 160)            153600    ['block_14_depthwise_relu[0][0\n",
      "                                                                    ]']                           \n",
      "                                                                                                  \n",
      " block_14_project_BN (Batch  (None, 4, 4, 160)            640       ['block_14_project[0][0]']    \n",
      " Normalization)                                                                                   \n",
      "                                                                                                  \n",
      " block_14_add (Add)          (None, 4, 4, 160)            0         ['block_13_project_BN[0][0]', \n",
      "                                                                     'block_14_project_BN[0][0]'] \n",
      "                                                                                                  \n",
      " block_15_expand (Conv2D)    (None, 4, 4, 960)            153600    ['block_14_add[0][0]']        \n",
      "                                                                                                  \n",
      " block_15_expand_BN (BatchN  (None, 4, 4, 960)            3840      ['block_15_expand[0][0]']     \n",
      " ormalization)                                                                                    \n",
      "                                                                                                  \n",
      " block_15_expand_relu (ReLU  (None, 4, 4, 960)            0         ['block_15_expand_BN[0][0]']  \n",
      " )                                                                                                \n",
      "                                                                                                  \n",
      " block_15_depthwise (Depthw  (None, 4, 4, 960)            8640      ['block_15_expand_relu[0][0]']\n",
      " iseConv2D)                                                                                       \n",
      "                                                                                                  \n",
      " block_15_depthwise_BN (Bat  (None, 4, 4, 960)            3840      ['block_15_depthwise[0][0]']  \n",
      " chNormalization)                                                                                 \n",
      "                                                                                                  \n",
      " block_15_depthwise_relu (R  (None, 4, 4, 960)            0         ['block_15_depthwise_BN[0][0]'\n",
      " eLU)                                                               ]                             \n",
      "                                                                                                  \n",
      " block_15_project (Conv2D)   (None, 4, 4, 160)            153600    ['block_15_depthwise_relu[0][0\n",
      "                                                                    ]']                           \n",
      "                                                                                                  \n",
      " block_15_project_BN (Batch  (None, 4, 4, 160)            640       ['block_15_project[0][0]']    \n",
      " Normalization)                                                                                   \n",
      "                                                                                                  \n",
      " block_15_add (Add)          (None, 4, 4, 160)            0         ['block_14_add[0][0]',        \n",
      "                                                                     'block_15_project_BN[0][0]'] \n",
      "                                                                                                  \n",
      " block_16_expand (Conv2D)    (None, 4, 4, 960)            153600    ['block_15_add[0][0]']        \n",
      "                                                                                                  \n",
      " block_16_expand_BN (BatchN  (None, 4, 4, 960)            3840      ['block_16_expand[0][0]']     \n",
      " ormalization)                                                                                    \n",
      "                                                                                                  \n",
      " block_16_expand_relu (ReLU  (None, 4, 4, 960)            0         ['block_16_expand_BN[0][0]']  \n",
      " )                                                                                                \n"
     ]
    },
    {
     "name": "stdout",
     "output_type": "stream",
     "text": [
      "                                                                                                  \n",
      " block_16_depthwise (Depthw  (None, 4, 4, 960)            8640      ['block_16_expand_relu[0][0]']\n",
      " iseConv2D)                                                                                       \n",
      "                                                                                                  \n",
      " block_16_depthwise_BN (Bat  (None, 4, 4, 960)            3840      ['block_16_depthwise[0][0]']  \n",
      " chNormalization)                                                                                 \n",
      "                                                                                                  \n",
      " block_16_depthwise_relu (R  (None, 4, 4, 960)            0         ['block_16_depthwise_BN[0][0]'\n",
      " eLU)                                                               ]                             \n",
      "                                                                                                  \n",
      " block_16_project (Conv2D)   (None, 4, 4, 320)            307200    ['block_16_depthwise_relu[0][0\n",
      "                                                                    ]']                           \n",
      "                                                                                                  \n",
      " block_16_project_BN (Batch  (None, 4, 4, 320)            1280      ['block_16_project[0][0]']    \n",
      " Normalization)                                                                                   \n",
      "                                                                                                  \n",
      " Conv_1 (Conv2D)             (None, 4, 4, 1280)           409600    ['block_16_project_BN[0][0]'] \n",
      "                                                                                                  \n",
      " Conv_1_bn (BatchNormalizat  (None, 4, 4, 1280)           5120      ['Conv_1[0][0]']              \n",
      " ion)                                                                                             \n",
      "                                                                                                  \n",
      " out_relu (ReLU)             (None, 4, 4, 1280)           0         ['Conv_1_bn[0][0]']           \n",
      "                                                                                                  \n",
      " global_average_pooling2d_1  (None, 1280)                 0         ['out_relu[0][0]']            \n",
      "  (GlobalAveragePooling2D)                                                                        \n",
      "                                                                                                  \n",
      " dense_1 (Dense)             (None, 1)                    1281      ['global_average_pooling2d_1[0\n",
      "                                                                    ][0]']                        \n",
      "                                                                                                  \n",
      "==================================================================================================\n",
      "Total params: 2259265 (8.62 MB)\n",
      "Trainable params: 1281 (5.00 KB)\n",
      "Non-trainable params: 2257984 (8.61 MB)\n",
      "__________________________________________________________________________________________________\n"
     ]
    }
   ],
   "source": [
    "epochs = 40\n",
    "\n",
    "from keras import regularizers\n",
    "kernel_regularizer = regularizers.l2(0.0001)\n",
    "\n",
    "from keras.applications.mobilenet_v2 import MobileNetV2\n",
    "\n",
    "def load_layers():\n",
    "    input_tensor = Input(shape=(IMG_SIZE, IMG_SIZE, ColorChannels))\n",
    "    baseModel = MobileNetV2(pooling='avg',\n",
    "                            include_top=False, \n",
    "                            input_tensor=input_tensor)\n",
    "    \n",
    "    headModel = baseModel.output   \n",
    "    headModel = Dense(1, activation=\"sigmoid\")(headModel)\n",
    "    model = Model(inputs=baseModel.input, outputs=headModel)\n",
    "\n",
    "    for layer in baseModel.layers:\n",
    "        layer.trainable = False\n",
    "\n",
    "    print(\"Compiling model...\")\n",
    "    model.compile(loss=\"binary_crossentropy\",\n",
    "                    optimizer='adam',\n",
    "                    metrics=[\"accuracy\"])\n",
    "\n",
    "    return model\n",
    "\n",
    "if TPU_INIT:\n",
    "    with tpu_strategy.scope():\n",
    "        model = load_layers()\n",
    "else:\n",
    "    model = load_layers()\n",
    "\n",
    "model.summary()"
   ]
  },
  {
   "cell_type": "code",
   "execution_count": 42,
   "metadata": {
    "execution": {
     "iopub.execute_input": "2021-06-28T21:19:22.163129Z",
     "iopub.status.busy": "2021-06-28T21:19:22.162673Z",
     "iopub.status.idle": "2021-06-28T21:19:22.176337Z",
     "shell.execute_reply": "2021-06-28T21:19:22.175519Z",
     "shell.execute_reply.started": "2021-06-28T21:19:22.163083Z"
    },
    "id": "Ot4-s-9rLwF4"
   },
   "outputs": [],
   "source": [
    "from tensorflow.keras.callbacks import Callback, ModelCheckpoint, LearningRateScheduler, TensorBoard, EarlyStopping, ReduceLROnPlateau\n",
    "\n",
    "patience = 3\n",
    "\n",
    "start_lr = 0.00001\n",
    "min_lr = 0.00001\n",
    "max_lr = 0.00005\n",
    "\n",
    "batch_size = 4\n",
    "\n",
    "if TPU_INIT:\n",
    "    max_lr = max_lr * tpu_strategy.num_replicas_in_sync\n",
    "    batch_size = batch_size * tpu_strategy.num_replicas_in_sync\n",
    "\n",
    "rampup_epochs = 5\n",
    "sustain_epochs = 0\n",
    "exp_decay = .8\n",
    "\n",
    "def lrfn(epoch):\n",
    "    if epoch < rampup_epochs:\n",
    "        return (max_lr - start_lr)/rampup_epochs * epoch + start_lr\n",
    "    elif epoch < rampup_epochs + sustain_epochs:\n",
    "        return max_lr\n",
    "    else:\n",
    "        return (max_lr - min_lr) * exp_decay**(epoch-rampup_epochs-sustain_epochs) + min_lr\n",
    "\n",
    "\n",
    "class myCallback(Callback):\n",
    "    def on_epoch_end(self, epoch, logs={}):\n",
    "        if ((logs.get('accuracy')>=0.999)):\n",
    "            print(\"\\nLimits Reached cancelling training!\")\n",
    "            self.model.stop_training = True"
   ]
  },
  {
   "cell_type": "code",
   "execution_count": 23,
   "metadata": {
    "execution": {
     "iopub.execute_input": "2021-06-28T21:19:28.031571Z",
     "iopub.status.busy": "2021-06-28T21:19:28.031227Z",
     "iopub.status.idle": "2021-06-28T21:19:28.388810Z",
     "shell.execute_reply": "2021-06-28T21:19:28.387749Z",
     "shell.execute_reply.started": "2021-06-28T21:19:28.031539Z"
    },
    "id": "-OB5GFdDsIAD"
   },
   "outputs": [],
   "source": [
    "end_callback = myCallback()\n",
    "\n",
    "lr_callback = LearningRateScheduler(lambda epoch: lrfn(epoch), verbose=False)\n",
    "\n",
    "early_stopping = EarlyStopping(patience = patience, monitor='val_loss',\n",
    "                                 mode='min', restore_best_weights=True, \n",
    "                                 verbose = 1, min_delta = .00075)\n",
    "\n",
    "PROJECT_DIR = MyDrive + '/RiskDetection'\n",
    "\n",
    "lr_plat = ReduceLROnPlateau(patience = 2, mode = 'min')\n",
    "\n",
    "os.system('rm -rf ./logs/')\n",
    "\n",
    "import datetime\n",
    "log_dir=\"logs/fit/\" + datetime.datetime.now().strftime(\"%Y%m%d-%H%M%S\")\n",
    "tensorboard_callback = TensorBoard(log_dir = log_dir, write_graph=True, histogram_freq=1)\n",
    "\n",
    "checkpoint_filepath = 'ModelWeights.h5'\n",
    "\n",
    "model_checkpoints = ModelCheckpoint(filepath=checkpoint_filepath,\n",
    "                                        save_weights_only=True,\n",
    "                                        monitor='val_loss',\n",
    "                                        mode='min',\n",
    "                                        verbose = 1,\n",
    "                                        save_best_only=True)\n",
    "\n",
    "\n",
    "callbacks = [end_callback, lr_callback, model_checkpoints, tensorboard_callback, early_stopping, lr_plat]\n",
    "\n",
    "if TPU_INIT:\n",
    "    callbacks = [end_callback, lr_callback, model_checkpoints, early_stopping, lr_plat]"
   ]
  },
  {
   "cell_type": "code",
   "execution_count": 43,
   "metadata": {
    "_kg_hide-output": false,
    "execution": {
     "iopub.execute_input": "2021-06-28T21:19:34.188325Z",
     "iopub.status.busy": "2021-06-28T21:19:34.187954Z",
     "iopub.status.idle": "2021-06-28T21:40:04.073914Z",
     "shell.execute_reply": "2021-06-28T21:40:04.073018Z",
     "shell.execute_reply.started": "2021-06-28T21:19:34.188280Z"
    },
    "id": "MDFpuPolFYRc",
    "outputId": "ea444b27-b899-46b5-cc59-fe9ba7de6c9a"
   },
   "outputs": [
    {
     "name": "stdout",
     "output_type": "stream",
     "text": [
      "Training head...\n",
      "Epoch 1/40\n",
      "1461/1461 [==============================] - ETA: 0s - loss: 0.8992 - accuracy: 0.5059\n",
      "Epoch 1: val_loss did not improve from 0.15453\n",
      "1461/1461 [==============================] - 143s 95ms/step - loss: 0.8992 - accuracy: 0.5059 - val_loss: 0.7864 - val_accuracy: 0.5086 - lr: 1.0000e-05\n",
      "Epoch 2/40\n",
      "1461/1461 [==============================] - ETA: 0s - loss: 0.7388 - accuracy: 0.5383\n",
      "Epoch 2: val_loss did not improve from 0.15453\n",
      "1461/1461 [==============================] - 99s 68ms/step - loss: 0.7388 - accuracy: 0.5383 - val_loss: 0.7112 - val_accuracy: 0.5645 - lr: 1.8000e-05\n",
      "Epoch 3/40\n",
      "1461/1461 [==============================] - ETA: 0s - loss: 0.6631 - accuracy: 0.6129\n",
      "Epoch 3: val_loss did not improve from 0.15453\n",
      "1461/1461 [==============================] - 92s 63ms/step - loss: 0.6631 - accuracy: 0.6129 - val_loss: 0.6400 - val_accuracy: 0.6363 - lr: 2.6000e-05\n",
      "Epoch 4/40\n",
      "1461/1461 [==============================] - ETA: 0s - loss: 0.5992 - accuracy: 0.6750\n",
      "Epoch 4: val_loss did not improve from 0.15453\n",
      "1461/1461 [==============================] - 89s 61ms/step - loss: 0.5992 - accuracy: 0.6750 - val_loss: 0.5873 - val_accuracy: 0.6942 - lr: 3.4000e-05\n",
      "Epoch 5/40\n",
      "1460/1461 [============================>.] - ETA: 0s - loss: 0.5498 - accuracy: 0.7235\n",
      "Epoch 5: val_loss did not improve from 0.15453\n",
      "1461/1461 [==============================] - 90s 62ms/step - loss: 0.5498 - accuracy: 0.7236 - val_loss: 0.5458 - val_accuracy: 0.7242 - lr: 4.2000e-05\n",
      "Epoch 6/40\n",
      "1460/1461 [============================>.] - ETA: 0s - loss: 0.5114 - accuracy: 0.7493\n",
      "Epoch 6: val_loss did not improve from 0.15453\n",
      "1461/1461 [==============================] - 89s 61ms/step - loss: 0.5114 - accuracy: 0.7493 - val_loss: 0.5153 - val_accuracy: 0.7485 - lr: 5.0000e-05\n",
      "Epoch 7/40\n",
      "1461/1461 [==============================] - ETA: 0s - loss: 0.4838 - accuracy: 0.7684\n",
      "Epoch 7: val_loss did not improve from 0.15453\n",
      "1461/1461 [==============================] - 89s 61ms/step - loss: 0.4838 - accuracy: 0.7684 - val_loss: 0.4976 - val_accuracy: 0.7613 - lr: 4.2000e-05\n",
      "Epoch 8/40\n",
      "1460/1461 [============================>.] - ETA: 0s - loss: 0.4659 - accuracy: 0.7844\n",
      "Epoch 8: val_loss did not improve from 0.15453\n",
      "1461/1461 [==============================] - 94s 64ms/step - loss: 0.4660 - accuracy: 0.7844 - val_loss: 0.4849 - val_accuracy: 0.7729 - lr: 3.5600e-05\n",
      "Epoch 9/40\n",
      "1460/1461 [============================>.] - ETA: 0s - loss: 0.4539 - accuracy: 0.7923\n",
      "Epoch 9: val_loss did not improve from 0.15453\n",
      "1461/1461 [==============================] - 124s 85ms/step - loss: 0.4538 - accuracy: 0.7924 - val_loss: 0.4754 - val_accuracy: 0.7776 - lr: 3.0480e-05\n",
      "Epoch 10/40\n",
      "1461/1461 [==============================] - ETA: 0s - loss: 0.4439 - accuracy: 0.7967\n",
      "Epoch 10: val_loss did not improve from 0.15453\n",
      "1461/1461 [==============================] - 99s 68ms/step - loss: 0.4439 - accuracy: 0.7967 - val_loss: 0.4691 - val_accuracy: 0.7824 - lr: 2.6384e-05\n",
      "Epoch 11/40\n",
      "1461/1461 [==============================] - ETA: 0s - loss: 0.4371 - accuracy: 0.8037\n",
      "Epoch 11: val_loss did not improve from 0.15453\n",
      "1461/1461 [==============================] - 99s 68ms/step - loss: 0.4371 - accuracy: 0.8037 - val_loss: 0.4633 - val_accuracy: 0.7892 - lr: 2.3107e-05\n",
      "Epoch 12/40\n",
      "1461/1461 [==============================] - ETA: 0s - loss: 0.4302 - accuracy: 0.8064\n",
      "Epoch 12: val_loss did not improve from 0.15453\n",
      "1461/1461 [==============================] - 94s 64ms/step - loss: 0.4302 - accuracy: 0.8064 - val_loss: 0.4610 - val_accuracy: 0.7832 - lr: 2.0486e-05\n",
      "Epoch 13/40\n",
      "1460/1461 [============================>.] - ETA: 0s - loss: 0.4259 - accuracy: 0.8110\n",
      "Epoch 13: val_loss did not improve from 0.15453\n",
      "1461/1461 [==============================] - 88s 61ms/step - loss: 0.4262 - accuracy: 0.8105 - val_loss: 0.4553 - val_accuracy: 0.7944 - lr: 1.8389e-05\n",
      "Epoch 14/40\n",
      "1461/1461 [==============================] - ETA: 0s - loss: 0.4214 - accuracy: 0.8099\n",
      "Epoch 14: val_loss did not improve from 0.15453\n",
      "1461/1461 [==============================] - 86s 59ms/step - loss: 0.4214 - accuracy: 0.8099 - val_loss: 0.4523 - val_accuracy: 0.7916 - lr: 1.6711e-05\n",
      "Epoch 15/40\n",
      "1461/1461 [==============================] - ETA: 0s - loss: 0.4182 - accuracy: 0.8153\n",
      "Epoch 15: val_loss did not improve from 0.15453\n",
      "1461/1461 [==============================] - 87s 60ms/step - loss: 0.4182 - accuracy: 0.8153 - val_loss: 0.4491 - val_accuracy: 0.7964 - lr: 1.5369e-05\n",
      "Epoch 16/40\n",
      "1461/1461 [==============================] - ETA: 0s - loss: 0.4151 - accuracy: 0.8162\n",
      "Epoch 16: val_loss did not improve from 0.15453\n",
      "1461/1461 [==============================] - 86s 59ms/step - loss: 0.4151 - accuracy: 0.8162 - val_loss: 0.4470 - val_accuracy: 0.7956 - lr: 1.4295e-05\n",
      "Epoch 17/40\n",
      "1460/1461 [============================>.] - ETA: 0s - loss: 0.4123 - accuracy: 0.8205\n",
      "Epoch 17: val_loss did not improve from 0.15453\n",
      "1461/1461 [==============================] - 86s 59ms/step - loss: 0.4123 - accuracy: 0.8206 - val_loss: 0.4464 - val_accuracy: 0.7948 - lr: 1.3436e-05\n",
      "Epoch 18/40\n",
      "1460/1461 [============================>.] - ETA: 0s - loss: 0.4098 - accuracy: 0.8200\n",
      "Epoch 18: val_loss did not improve from 0.15453\n",
      "1461/1461 [==============================] - 87s 60ms/step - loss: 0.4099 - accuracy: 0.8200 - val_loss: 0.4427 - val_accuracy: 0.7980 - lr: 1.2749e-05\n",
      "Epoch 19/40\n",
      "1460/1461 [============================>.] - ETA: 0s - loss: 0.4073 - accuracy: 0.8209\n",
      "Epoch 19: val_loss did not improve from 0.15453\n",
      "1461/1461 [==============================] - 86s 59ms/step - loss: 0.4074 - accuracy: 0.8206 - val_loss: 0.4408 - val_accuracy: 0.8000 - lr: 1.2199e-05\n",
      "Epoch 20/40\n",
      "1460/1461 [============================>.] - ETA: 0s - loss: 0.4056 - accuracy: 0.8212\n",
      "Epoch 20: val_loss did not improve from 0.15453\n",
      "1461/1461 [==============================] - 87s 59ms/step - loss: 0.4055 - accuracy: 0.8213 - val_loss: 0.4395 - val_accuracy: 0.7960 - lr: 1.1759e-05\n",
      "Epoch 21/40\n",
      "1460/1461 [============================>.] - ETA: 0s - loss: 0.4039 - accuracy: 0.8207\n",
      "Epoch 21: val_loss did not improve from 0.15453\n",
      "1461/1461 [==============================] - 86s 59ms/step - loss: 0.4038 - accuracy: 0.8208 - val_loss: 0.4373 - val_accuracy: 0.7992 - lr: 1.1407e-05\n",
      "Epoch 22/40\n",
      "1460/1461 [============================>.] - ETA: 0s - loss: 0.4016 - accuracy: 0.8229\n",
      "Epoch 22: val_loss did not improve from 0.15453\n",
      "1461/1461 [==============================] - 86s 59ms/step - loss: 0.4018 - accuracy: 0.8229 - val_loss: 0.4360 - val_accuracy: 0.8016 - lr: 1.1126e-05\n",
      "Epoch 23/40\n",
      "1461/1461 [==============================] - ETA: 0s - loss: 0.3997 - accuracy: 0.8249\n",
      "Epoch 23: val_loss did not improve from 0.15453\n",
      "1461/1461 [==============================] - 87s 60ms/step - loss: 0.3997 - accuracy: 0.8249 - val_loss: 0.4344 - val_accuracy: 0.8008 - lr: 1.0901e-05\n",
      "Epoch 24/40\n",
      "1460/1461 [============================>.] - ETA: 0s - loss: 0.3983 - accuracy: 0.8259\n",
      "Epoch 24: val_loss did not improve from 0.15453\n",
      "1461/1461 [==============================] - 86s 59ms/step - loss: 0.3982 - accuracy: 0.8258 - val_loss: 0.4331 - val_accuracy: 0.8028 - lr: 1.0721e-05\n",
      "Epoch 25/40\n",
      "1461/1461 [==============================] - ETA: 0s - loss: 0.3967 - accuracy: 0.8277\n",
      "Epoch 25: val_loss did not improve from 0.15453\n",
      "1461/1461 [==============================] - 86s 59ms/step - loss: 0.3967 - accuracy: 0.8277 - val_loss: 0.4319 - val_accuracy: 0.8024 - lr: 1.0576e-05\n",
      "Epoch 26/40\n",
      "1461/1461 [==============================] - ETA: 0s - loss: 0.3952 - accuracy: 0.8277\n",
      "Epoch 26: val_loss did not improve from 0.15453\n",
      "1461/1461 [==============================] - 87s 59ms/step - loss: 0.3952 - accuracy: 0.8277 - val_loss: 0.4308 - val_accuracy: 0.8024 - lr: 1.0461e-05\n",
      "Epoch 27/40\n",
      "1461/1461 [==============================] - ETA: 0s - loss: 0.3936 - accuracy: 0.8278\n",
      "Epoch 27: val_loss did not improve from 0.15453\n",
      "1461/1461 [==============================] - 86s 59ms/step - loss: 0.3936 - accuracy: 0.8278 - val_loss: 0.4293 - val_accuracy: 0.8048 - lr: 1.0369e-05\n",
      "Epoch 28/40\n",
      "1460/1461 [============================>.] - ETA: 0s - loss: 0.3922 - accuracy: 0.8288\n",
      "Epoch 28: val_loss did not improve from 0.15453\n"
     ]
    },
    {
     "name": "stdout",
     "output_type": "stream",
     "text": [
      "1461/1461 [==============================] - 86s 59ms/step - loss: 0.3923 - accuracy: 0.8287 - val_loss: 0.4288 - val_accuracy: 0.8032 - lr: 1.0295e-05\n",
      "Epoch 29/40\n",
      "1461/1461 [==============================] - ETA: 0s - loss: 0.3909 - accuracy: 0.8301\n",
      "Epoch 29: val_loss did not improve from 0.15453\n",
      "1461/1461 [==============================] - 85s 58ms/step - loss: 0.3909 - accuracy: 0.8301 - val_loss: 0.4274 - val_accuracy: 0.8028 - lr: 1.0236e-05\n",
      "Epoch 30/40\n",
      "1461/1461 [==============================] - ETA: 0s - loss: 0.3894 - accuracy: 0.8294\n",
      "Epoch 30: val_loss did not improve from 0.15453\n",
      "1461/1461 [==============================] - 85s 58ms/step - loss: 0.3894 - accuracy: 0.8294 - val_loss: 0.4264 - val_accuracy: 0.8036 - lr: 1.0189e-05\n",
      "Epoch 31/40\n",
      "1460/1461 [============================>.] - ETA: 0s - loss: 0.3881 - accuracy: 0.8295\n",
      "Epoch 31: val_loss did not improve from 0.15453\n",
      "1461/1461 [==============================] - 84s 58ms/step - loss: 0.3880 - accuracy: 0.8295 - val_loss: 0.4251 - val_accuracy: 0.8076 - lr: 1.0151e-05\n",
      "Epoch 32/40\n",
      "1461/1461 [==============================] - ETA: 0s - loss: 0.3868 - accuracy: 0.8311\n",
      "Epoch 32: val_loss did not improve from 0.15453\n",
      "1461/1461 [==============================] - 85s 58ms/step - loss: 0.3868 - accuracy: 0.8311 - val_loss: 0.4252 - val_accuracy: 0.8100 - lr: 1.0121e-05\n",
      "Epoch 33/40\n",
      "1460/1461 [============================>.] - ETA: 0s - loss: 0.3859 - accuracy: 0.8312\n",
      "Epoch 33: val_loss did not improve from 0.15453\n",
      "1461/1461 [==============================] - 85s 58ms/step - loss: 0.3857 - accuracy: 0.8313 - val_loss: 0.4229 - val_accuracy: 0.8076 - lr: 1.0097e-05\n",
      "Epoch 34/40\n",
      "1461/1461 [==============================] - ETA: 0s - loss: 0.3844 - accuracy: 0.8328\n",
      "Epoch 34: val_loss did not improve from 0.15453\n",
      "1461/1461 [==============================] - 85s 58ms/step - loss: 0.3844 - accuracy: 0.8328 - val_loss: 0.4218 - val_accuracy: 0.8084 - lr: 1.0077e-05\n",
      "Epoch 35/40\n",
      "1461/1461 [==============================] - ETA: 0s - loss: 0.3829 - accuracy: 0.8313\n",
      "Epoch 35: val_loss did not improve from 0.15453\n",
      "1461/1461 [==============================] - 84s 58ms/step - loss: 0.3829 - accuracy: 0.8313 - val_loss: 0.4236 - val_accuracy: 0.8108 - lr: 1.0062e-05\n",
      "Epoch 36/40\n",
      "1461/1461 [==============================] - ETA: 0s - loss: 0.3823 - accuracy: 0.8342\n",
      "Epoch 36: val_loss did not improve from 0.15453\n",
      "1461/1461 [==============================] - 85s 58ms/step - loss: 0.3823 - accuracy: 0.8342 - val_loss: 0.4198 - val_accuracy: 0.8092 - lr: 1.0050e-05\n",
      "Epoch 37/40\n",
      "1461/1461 [==============================] - ETA: 0s - loss: 0.3808 - accuracy: 0.8362\n",
      "Epoch 37: val_loss did not improve from 0.15453\n",
      "1461/1461 [==============================] - 85s 58ms/step - loss: 0.3808 - accuracy: 0.8362 - val_loss: 0.4191 - val_accuracy: 0.8096 - lr: 1.0040e-05\n",
      "Epoch 38/40\n",
      "1460/1461 [============================>.] - ETA: 0s - loss: 0.3797 - accuracy: 0.8372\n",
      "Epoch 38: val_loss did not improve from 0.15453\n",
      "1461/1461 [==============================] - 84s 58ms/step - loss: 0.3796 - accuracy: 0.8372 - val_loss: 0.4181 - val_accuracy: 0.8104 - lr: 1.0032e-05\n",
      "Epoch 39/40\n",
      "1460/1461 [============================>.] - ETA: 0s - loss: 0.3787 - accuracy: 0.8363\n",
      "Epoch 39: val_loss did not improve from 0.15453\n",
      "1461/1461 [==============================] - 85s 58ms/step - loss: 0.3786 - accuracy: 0.8364 - val_loss: 0.4171 - val_accuracy: 0.8104 - lr: 1.0025e-05\n",
      "Epoch 40/40\n",
      "1461/1461 [==============================] - ETA: 0s - loss: 0.3776 - accuracy: 0.8376\n",
      "Epoch 40: val_loss did not improve from 0.15453\n",
      "1461/1461 [==============================] - 84s 58ms/step - loss: 0.3776 - accuracy: 0.8376 - val_loss: 0.4170 - val_accuracy: 0.8124 - lr: 1.0020e-05\n",
      "\n",
      "Restoring best Weights for MobileNetV2\n"
     ]
    }
   ],
   "source": [
    "print('Training head...')\n",
    "#model.load_weights('./Model_Weights.h5')\n",
    "\n",
    "history = model.fit(X_train_nn ,y_train, epochs=epochs,\n",
    "                        callbacks=callbacks,\n",
    "                        validation_data = (X_test_nn, y_test),\n",
    "                        batch_size=batch_size)\n",
    "\n",
    "print('\\nRestoring best Weights for MobileNetV2')\n",
    "model.load_weights(checkpoint_filepath)"
   ]
  },
  {
   "cell_type": "code",
   "execution_count": 46,
   "metadata": {
    "execution": {
     "iopub.execute_input": "2021-06-28T21:41:11.914827Z",
     "iopub.status.busy": "2021-06-28T21:41:11.914488Z",
     "iopub.status.idle": "2021-06-28T21:41:11.933416Z",
     "shell.execute_reply": "2021-06-28T21:41:11.932620Z",
     "shell.execute_reply.started": "2021-06-28T21:41:11.914793Z"
    },
    "id": "1s1W3C08sIAE"
   },
   "outputs": [],
   "source": [
    "%matplotlib inline\n",
    "\n",
    "def print_graph(item, index, history):\n",
    "    plt.figure()\n",
    "    train_values = history.history[item][0:index]\n",
    "    plt.plot(train_values)\n",
    "    test_values = history.history['val_' + item][0:index]\n",
    "    plt.plot(test_values)\n",
    "    plt.legend(['training','validation'])\n",
    "    plt.title('Training and validation '+ item)\n",
    "    plt.xlabel('epoch')\n",
    "    plt.show()\n",
    "    plot = '{}.png'.format(item)\n",
    "    plt.savefig(plot)\n",
    "\n",
    "\n",
    "def get_best_epoch(test_loss, history):\n",
    "    for key, item in enumerate(history.history.items()):\n",
    "        (name, arr) = item\n",
    "        if name == 'val_loss':\n",
    "            for i in range(len(arr)):\n",
    "                if round(test_loss, 2) == round(arr[i], 2):\n",
    "                    return i\n",
    "                \n",
    "def model_summary(model, history):\n",
    "    print('---'*30)\n",
    "    test_loss, test_accuracy = model.evaluate(X_test_nn, y_test, verbose=0)\n",
    "\n",
    "    if history:\n",
    "        index = get_best_epoch(test_loss, history)\n",
    "        print('Best Epochs: ', index)\n",
    "\n",
    "        train_accuracy = history.history['accuracy'][index]\n",
    "        train_loss = history.history['loss'][index]\n",
    "\n",
    "        print('Accuracy on train:',train_accuracy,'\\tLoss on train:',train_loss)\n",
    "        print('Accuracy on test:',test_accuracy,'\\tLoss on test:',test_loss)\n",
    "        print_graph('loss', index, history)\n",
    "        print_graph('accuracy', index, history)\n",
    "        print('---'*30)                "
   ]
  },
  {
   "cell_type": "code",
   "execution_count": 47,
   "metadata": {
    "execution": {
     "iopub.execute_input": "2021-06-28T21:41:15.265817Z",
     "iopub.status.busy": "2021-06-28T21:41:15.265489Z",
     "iopub.status.idle": "2021-06-28T21:41:18.543465Z",
     "shell.execute_reply": "2021-06-28T21:41:18.542383Z",
     "shell.execute_reply.started": "2021-06-28T21:41:15.265788Z"
    },
    "id": "z4jTgDv7sIAE",
    "outputId": "2159afd8-d667-4ad1-c54c-bf32e4b2465b"
   },
   "outputs": [
    {
     "name": "stdout",
     "output_type": "stream",
     "text": [
      "------------------------------------------------------------------------------------------\n",
      "Best Epochs:  None\n"
     ]
    },
    {
     "ename": "TypeError",
     "evalue": "list indices must be integers or slices, not NoneType",
     "output_type": "error",
     "traceback": [
      "\u001b[1;31m---------------------------------------------------------------------------\u001b[0m",
      "\u001b[1;31mTypeError\u001b[0m                                 Traceback (most recent call last)",
      "Cell \u001b[1;32mIn[47], line 1\u001b[0m\n\u001b[1;32m----> 1\u001b[0m model_summary(model, history)\n",
      "Cell \u001b[1;32mIn[46], line 33\u001b[0m, in \u001b[0;36mmodel_summary\u001b[1;34m(model, history)\u001b[0m\n\u001b[0;32m     30\u001b[0m index \u001b[38;5;241m=\u001b[39m get_best_epoch(test_loss, history)\n\u001b[0;32m     31\u001b[0m \u001b[38;5;28mprint\u001b[39m(\u001b[38;5;124m'\u001b[39m\u001b[38;5;124mBest Epochs: \u001b[39m\u001b[38;5;124m'\u001b[39m, index)\n\u001b[1;32m---> 33\u001b[0m train_accuracy \u001b[38;5;241m=\u001b[39m history\u001b[38;5;241m.\u001b[39mhistory[\u001b[38;5;124m'\u001b[39m\u001b[38;5;124maccuracy\u001b[39m\u001b[38;5;124m'\u001b[39m][index]\n\u001b[0;32m     34\u001b[0m train_loss \u001b[38;5;241m=\u001b[39m history\u001b[38;5;241m.\u001b[39mhistory[\u001b[38;5;124m'\u001b[39m\u001b[38;5;124mloss\u001b[39m\u001b[38;5;124m'\u001b[39m][index]\n\u001b[0;32m     36\u001b[0m \u001b[38;5;28mprint\u001b[39m(\u001b[38;5;124m'\u001b[39m\u001b[38;5;124mAccuracy on train:\u001b[39m\u001b[38;5;124m'\u001b[39m,train_accuracy,\u001b[38;5;124m'\u001b[39m\u001b[38;5;130;01m\\t\u001b[39;00m\u001b[38;5;124mLoss on train:\u001b[39m\u001b[38;5;124m'\u001b[39m,train_loss)\n",
      "\u001b[1;31mTypeError\u001b[0m: list indices must be integers or slices, not NoneType"
     ]
    }
   ],
   "source": [
    "model_summary(model, history)"
   ]
  },
  {
   "cell_type": "markdown",
   "metadata": {
    "id": "e0eSBvicsIAF"
   },
   "source": [
    "## **Evaluation on test set**"
   ]
  },
  {
   "cell_type": "code",
   "execution_count": 48,
   "metadata": {
    "execution": {
     "iopub.execute_input": "2021-06-28T21:41:25.756227Z",
     "iopub.status.busy": "2021-06-28T21:41:25.755863Z",
     "iopub.status.idle": "2021-06-28T21:41:28.541319Z",
     "shell.execute_reply": "2021-06-28T21:41:28.540479Z",
     "shell.execute_reply.started": "2021-06-28T21:41:25.756189Z"
    },
    "id": "RDJb2EZDtwH2",
    "outputId": "e3685299-469c-40b1-e249-026cfcb2e4e2"
   },
   "outputs": [
    {
     "name": "stdout",
     "output_type": "stream",
     "text": [
      "Evaluating network...\n",
      "79/79 [==============================] - 16s 179ms/step\n"
     ]
    }
   ],
   "source": [
    "# evaluate the network\n",
    "print(\"Evaluating network...\")\n",
    "predictions = model.predict(X_test_nn)\n",
    "preds = predictions > 0.5"
   ]
  },
  {
   "cell_type": "code",
   "execution_count": null,
   "metadata": {
    "execution": {
     "iopub.execute_input": "2021-06-28T21:41:29.601949Z",
     "iopub.status.busy": "2021-06-28T21:41:29.601622Z",
     "iopub.status.idle": "2021-06-28T21:41:29.957269Z",
     "shell.execute_reply": "2021-06-28T21:41:29.956236Z",
     "shell.execute_reply.started": "2021-06-28T21:41:29.601912Z"
    },
    "id": "NEiZpFUksIAF",
    "outputId": "2cdc7828-5347-46a9-eec1-83f386aa7065"
   },
   "outputs": [
    {
     "name": "stderr",
     "output_type": "stream",
     "text": [
      "C:\\Users\\hp\\AppData\\Local\\Temp/ipykernel_6244/3180812836.py:6: DeprecationWarning: `np.int` is a deprecated alias for the builtin `int`. To silence this warning, use `int` by itself. Doing this will not modify any behavior and is safe. When replacing `np.int`, you may wish to use e.g. `np.int64` or `np.int32` to specify the precision. If you wish to review your current use, check the release note link for additional information.\n",
      "Deprecated in NumPy 1.20; for more details and guidance: https://numpy.org/devdocs/release/1.20.0-notes.html#deprecations\n",
      "  n_correct = np.int((corr_pred[0][0] + corr_pred[1][1]))\n",
      "C:\\Users\\hp\\AppData\\Local\\Temp/ipykernel_6244/3180812836.py:8: DeprecationWarning: `np.int` is a deprecated alias for the builtin `int`. To silence this warning, use `int` by itself. Doing this will not modify any behavior and is safe. When replacing `np.int`, you may wish to use e.g. `np.int64` or `np.int32` to specify the precision. If you wish to review your current use, check the release note link for additional information.\n",
      "Deprecated in NumPy 1.20; for more details and guidance: https://numpy.org/devdocs/release/1.20.0-notes.html#deprecations\n",
      "  n_wrongs = np.int((corr_pred[0][1] + (corr_pred[1][0])))\n"
     ]
    },
    {
     "name": "stdout",
     "output_type": "stream",
     "text": [
      "> Correct Predictions: 4606\n",
      "> Wrong Predictions: 203\n"
     ]
    },
    {
     "data": {
      "image/png": "[encoded data removed]",
      "text/plain": [
       "<Figure size 432x288 with 2 Axes>"
      ]
     },
     "metadata": {
      "needs_background": "light"
     },
     "output_type": "display_data"
    },
    {
     "name": "stdout",
     "output_type": "stream",
     "text": [
      "              precision    recall  f1-score   support\n",
      "\n",
      " NonViolence       0.96      0.95      0.95      2243\n",
      "    Violence       0.96      0.96      0.96      2566\n",
      "\n",
      "    accuracy                           0.96      4809\n",
      "   macro avg       0.96      0.96      0.96      4809\n",
      "weighted avg       0.96      0.96      0.96      4809\n",
      "\n"
     ]
    }
   ],
   "source": [
    "import seaborn as sns\n",
    "from sklearn import metrics\n",
    "from sklearn.metrics import roc_curve, roc_auc_score, plot_roc_curve, accuracy_score, classification_report, confusion_matrix\n",
    "corr_pred = metrics.confusion_matrix(y_test, preds)\n",
    "\n",
    "n_correct = np.int((corr_pred[0][0] + corr_pred[1][1]))\n",
    "print('> Correct Predictions:', n_correct)\n",
    "n_wrongs = np.int((corr_pred[0][1] + (corr_pred[1][0])))\n",
    "print('> Wrong Predictions:', n_wrongs)\n",
    "\n",
    "sns.heatmap(corr_pred,annot=True, fmt=\"d\",cmap=\"Blues\")\n",
    "plt.show()\n",
    "\n",
    "print(metrics.classification_report(y_test, preds, \n",
    "                           target_names=[\"NonViolence\", \"Violence\"]))"
   ]
  },
  {
   "cell_type": "code",
   "execution_count": 49,
   "metadata": {
    "execution": {
     "iopub.execute_input": "2021-06-27T12:26:57.76156Z",
     "iopub.status.busy": "2021-06-27T12:26:57.761213Z",
     "iopub.status.idle": "2021-06-27T12:26:58.023373Z",
     "shell.execute_reply": "2021-06-27T12:26:58.02252Z",
     "shell.execute_reply.started": "2021-06-27T12:26:57.761526Z"
    },
    "id": "QC4GtxqMtt81"
   },
   "outputs": [
    {
     "name": "stderr",
     "output_type": "stream",
     "text": [
      "C:\\Users\\Ajithabh Krishna\\anaconda3\\Lib\\site-packages\\keras\\src\\engine\\training.py:3103: UserWarning: You are saving your model as an HDF5 file via `model.save()`. This file format is considered legacy. We recommend using instead the native Keras format, e.g. `model.save('my_model.keras')`.\n",
      "  saving_api.save_model(\n"
     ]
    }
   ],
   "source": [
    "args_model = \"modelshoplift.h5\"\n",
    "model.save(args_model)"
   ]
  },
  {
   "cell_type": "code",
   "execution_count": null,
   "metadata": {},
   "outputs": [],
   "source": []
  }
 ],
 "metadata": {
  "colab": {
   "name": "mobilenetv2-model.ipynb",
   "provenance": []
  },
  "kernelspec": {
   "display_name": "Python 3 (ipykernel)",
   "language": "python",
   "name": "python3"
  },
  "language_info": {
   "codemirror_mode": {
    "name": "ipython",
    "version": 3
   },
   "file_extension": ".py",
   "mimetype": "text/x-python",
   "name": "python",
   "nbconvert_exporter": "python",
   "pygments_lexer": "ipython3",
   "version": "3.11.5"
  }
 },
 "nbformat": 4,
 "nbformat_minor": 1
}
